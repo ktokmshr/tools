{
  "nbformat": 4,
  "nbformat_minor": 0,
  "metadata": {
    "colab": {
      "name": "多変量lstm",
      "provenance": [],
      "private_outputs": true,
      "collapsed_sections": []
    },
    "kernelspec": {
      "name": "python3",
      "display_name": "Python 3"
    },
    "accelerator": "GPU"
  },
  "cells": [
    {
      "cell_type": "code",
      "metadata": {
        "id": "kdxYrr3sVkYX",
        "colab_type": "code",
        "colab": {}
      },
      "source": [
        "%matplotlib inline\n",
        "\n",
        "import pandas as pd\n",
        "from datetime import datetime\n",
        "import numpy as np"
      ],
      "execution_count": 0,
      "outputs": []
    },
    {
      "cell_type": "code",
      "metadata": {
        "id": "jHDj1I4lXeMo",
        "colab_type": "code",
        "colab": {}
      },
      "source": [
        "def parse(x):\n",
        "\treturn datetime.strptime(x, '%Y %m %d %H')\n",
        " \n",
        "dataset = pd.read_csv('./PRSA_data_2010.1.1-2014.12.31.csv',  parse_dates = [['year', 'month', 'day', 'hour']], index_col=0, date_parser=parse)\n",
        "dataset.drop('No', axis=1, inplace=True)\n",
        "# manually specify column names\n",
        "dataset.columns = ['pollution', 'dew', 'temp', 'press', 'wnd_dir', 'wnd_spd', 'snow', 'rain']\n",
        "dataset.index.name = 'date'\n",
        "# mark all NA values with 0\n",
        "dataset['pollution'].fillna(0, inplace=True)\n",
        "# drop the first 24 hours\n",
        "dataset = dataset[24:]\n",
        "# summarize first 5 rows\n",
        "print(dataset.head(5))\n",
        "# save to file\n",
        "dataset.to_csv('pollution.csv')"
      ],
      "execution_count": 0,
      "outputs": []
    },
    {
      "cell_type": "code",
      "metadata": {
        "id": "3pUUY0mOYBAu",
        "colab_type": "code",
        "colab": {}
      },
      "source": [
        "df = dataset[['pollution', 'temp', 'press', 'wnd_spd']]"
      ],
      "execution_count": 0,
      "outputs": []
    },
    {
      "cell_type": "code",
      "metadata": {
        "id": "lzujWT30ZQ2J",
        "colab_type": "code",
        "colab": {}
      },
      "source": [
        "df.head()"
      ],
      "execution_count": 0,
      "outputs": []
    },
    {
      "cell_type": "code",
      "metadata": {
        "id": "K3SWvjFvaB8r",
        "colab_type": "code",
        "colab": {}
      },
      "source": [
        "dataset = df.values.astype('float32')"
      ],
      "execution_count": 0,
      "outputs": []
    },
    {
      "cell_type": "code",
      "metadata": {
        "id": "PtTpsVveZh2g",
        "colab_type": "code",
        "colab": {}
      },
      "source": [
        "from sklearn.preprocessing import MinMaxScaler\n",
        "\n",
        "scaler = MinMaxScaler(feature_range=(0, 1))\n",
        "dataset = scaler.fit_transform(dataset)"
      ],
      "execution_count": 0,
      "outputs": []
    },
    {
      "cell_type": "code",
      "metadata": {
        "id": "ISRTxAFnZ9S5",
        "colab_type": "code",
        "colab": {}
      },
      "source": [
        "dataset[0]"
      ],
      "execution_count": 0,
      "outputs": []
    },
    {
      "cell_type": "code",
      "metadata": {
        "id": "rt2s3J4QaNGo",
        "colab_type": "code",
        "colab": {}
      },
      "source": [
        "dataset.shape"
      ],
      "execution_count": 0,
      "outputs": []
    },
    {
      "cell_type": "code",
      "metadata": {
        "id": "hN3aiLhSaPMP",
        "colab_type": "code",
        "colab": {}
      },
      "source": [
        "train_size = int(len(dataset) * 0.67)\n",
        "test_size = len(dataset) - train_size\n",
        "train, test = dataset[0:train_size,:], dataset[train_size:len(dataset),:]"
      ],
      "execution_count": 0,
      "outputs": []
    },
    {
      "cell_type": "code",
      "metadata": {
        "id": "Ao11WuFTbR7H",
        "colab_type": "code",
        "colab": {}
      },
      "source": [
        "train.shape"
      ],
      "execution_count": 0,
      "outputs": []
    },
    {
      "cell_type": "code",
      "metadata": {
        "id": "w97IY8_TcKhN",
        "colab_type": "code",
        "colab": {}
      },
      "source": [
        ""
      ],
      "execution_count": 0,
      "outputs": []
    },
    {
      "cell_type": "code",
      "metadata": {
        "id": "bHCYS-W8aUV1",
        "colab_type": "code",
        "colab": {}
      },
      "source": [
        "def create_dataset(dataset, look_back=5):\n",
        "  dataX, dataY = [], []\n",
        "  for i in range(len(dataset) - look_back - 1):\n",
        "    a = []\n",
        "    b = []\n",
        "    for j in range(dataset.shape[1]):\n",
        "      a = dataset[i:(i+look_back), j]\n",
        "      b.append(a)\n",
        "    dataY.append(dataset[i+look_back, 0])\n",
        "    dataX.append(b)\n",
        "  \n",
        "  return np.array(dataX), np.array(dataY)"
      ],
      "execution_count": 0,
      "outputs": []
    },
    {
      "cell_type": "code",
      "metadata": {
        "id": "kdEGIwq2cUDb",
        "colab_type": "code",
        "colab": {}
      },
      "source": [
        "look_back = 5\n",
        "trainX, trainY = create_dataset(train, look_back)\n",
        "testX, testY = create_dataset(test, look_back)"
      ],
      "execution_count": 0,
      "outputs": []
    },
    {
      "cell_type": "code",
      "metadata": {
        "id": "g-3_Q1m0c68i",
        "colab_type": "code",
        "colab": {}
      },
      "source": [
        "trainX.shape"
      ],
      "execution_count": 0,
      "outputs": []
    },
    {
      "cell_type": "code",
      "metadata": {
        "id": "Rz-fMZLJdyyW",
        "colab_type": "code",
        "colab": {}
      },
      "source": [
        "trainX[0: 2]"
      ],
      "execution_count": 0,
      "outputs": []
    },
    {
      "cell_type": "code",
      "metadata": {
        "id": "zu0tgS8CdEEA",
        "colab_type": "code",
        "colab": {}
      },
      "source": [
        "trainX = np.reshape(trainX, (trainX.shape[0], look_back, trainX.shape[1]))\n",
        "testX = np.reshape(testX, (testX.shape[0], look_back, testX.shape[1]))"
      ],
      "execution_count": 0,
      "outputs": []
    },
    {
      "cell_type": "code",
      "metadata": {
        "id": "fQ1E0abGevwz",
        "colab_type": "code",
        "colab": {}
      },
      "source": [
        "trainX.shape"
      ],
      "execution_count": 0,
      "outputs": []
    },
    {
      "cell_type": "code",
      "metadata": {
        "id": "HfZviwaOfrBq",
        "colab_type": "code",
        "colab": {}
      },
      "source": [
        "trainX[0:2]"
      ],
      "execution_count": 0,
      "outputs": []
    },
    {
      "cell_type": "code",
      "metadata": {
        "id": "JAc0WSGWcicT",
        "colab_type": "code",
        "colab": {}
      },
      "source": [
        "from tensorflow.keras.models import Sequential\n",
        "from tensorflow.keras.layers import Dense, Activation, LSTM"
      ],
      "execution_count": 0,
      "outputs": []
    },
    {
      "cell_type": "code",
      "metadata": {
        "id": "-IXCN_RXcrsj",
        "colab_type": "code",
        "colab": {}
      },
      "source": [
        "model = Sequential()\n",
        "\n",
        "model.add(LSTM(5, input_shape=(look_back, trainX.shape[2])))\n",
        "model.add(Dense(1))\n",
        "model.compile(loss='mean_squared_error', optimizer='adam')"
      ],
      "execution_count": 0,
      "outputs": []
    },
    {
      "cell_type": "code",
      "metadata": {
        "id": "9S8f_mmbfJSP",
        "colab_type": "code",
        "colab": {}
      },
      "source": [
        "model.fit(trainX, trainY, epochs=100, batch_size=100, verbose=2)"
      ],
      "execution_count": 0,
      "outputs": []
    },
    {
      "cell_type": "code",
      "metadata": {
        "id": "JWrZ1ypBuA5Y",
        "colab_type": "code",
        "colab": {}
      },
      "source": [
        "import math\n",
        "from sklearn.metrics import mean_squared_error\n",
        "\n",
        "trainPredict = model.predict(trainX)\n",
        "testPredict = model.predict(testX)"
      ],
      "execution_count": 0,
      "outputs": []
    },
    {
      "cell_type": "code",
      "metadata": {
        "id": "N7yjM4NxvlNH",
        "colab_type": "code",
        "colab": {}
      },
      "source": [
        "pad_col = np.zeros(dataset.shape[1]-1)\n",
        "def pad_array(val):\n",
        "    return np.array([np.insert(pad_col, 0, x) for x in val])\n",
        "\n",
        "trainPredict = scaler.inverse_transform(pad_array(trainPredict))\n",
        "trainY = scaler.inverse_transform(pad_array(trainY))\n",
        "testPredict = scaler.inverse_transform(pad_array(testPredict))\n",
        "testY = scaler.inverse_transform(pad_array(testY))"
      ],
      "execution_count": 0,
      "outputs": []
    },
    {
      "cell_type": "code",
      "metadata": {
        "id": "xDh-DQmhvoQ5",
        "colab_type": "code",
        "colab": {}
      },
      "source": [
        "trainScore = math.sqrt(mean_squared_error(trainY[:,0], trainPredict[:,0]))\n",
        "print('Train Score: %.2f RMSE' % (trainScore))\n",
        "testScore = math.sqrt(mean_squared_error(testY[:,0], testPredict[:,0]))\n",
        "print('Test Score: %.2f RMSE' % (testScore))\n"
      ],
      "execution_count": 0,
      "outputs": []
    },
    {
      "cell_type": "code",
      "metadata": {
        "id": "sMae5UqGv7Ga",
        "colab_type": "code",
        "colab": {}
      },
      "source": [
        "trainPredict[0:3, 0]\n"
      ],
      "execution_count": 0,
      "outputs": []
    },
    {
      "cell_type": "code",
      "metadata": {
        "id": "Qb6nhiugwW-m",
        "colab_type": "code",
        "colab": {}
      },
      "source": [
        "trainY[0:3, 0]"
      ],
      "execution_count": 0,
      "outputs": []
    },
    {
      "cell_type": "code",
      "metadata": {
        "id": "6KqFVZvbwZP4",
        "colab_type": "code",
        "colab": {}
      },
      "source": [
        ""
      ],
      "execution_count": 0,
      "outputs": []
    }
  ]
}