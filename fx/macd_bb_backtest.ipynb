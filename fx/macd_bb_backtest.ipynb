{
 "cells": [
  {
   "cell_type": "code",
   "execution_count": 1,
   "metadata": {},
   "outputs": [],
   "source": [
    "import pandas as pd\n",
    "import db_access"
   ]
  },
  {
   "cell_type": "code",
   "execution_count": 2,
   "metadata": {},
   "outputs": [],
   "source": [
    "def get_raw_data(limit=None):\n",
    "    engine = db_access.get_engine()\n",
    "    query = \"select * from usd_jpy\"\n",
    "    if (limit is not None and type(limit) is int):\n",
    "        query = query + \"limit \" + str(limit)\n",
    "    return pd.read_sql(\"SELECT * FROM usd_jpy\", engine)"
   ]
  },
  {
   "cell_type": "code",
   "execution_count": 19,
   "metadata": {},
   "outputs": [
    {
     "data": {
      "text/html": [
       "<div>\n",
       "<style scoped>\n",
       "    .dataframe tbody tr th:only-of-type {\n",
       "        vertical-align: middle;\n",
       "    }\n",
       "\n",
       "    .dataframe tbody tr th {\n",
       "        vertical-align: top;\n",
       "    }\n",
       "\n",
       "    .dataframe thead th {\n",
       "        text-align: right;\n",
       "    }\n",
       "</style>\n",
       "<table border=\"1\" class=\"dataframe\">\n",
       "  <thead>\n",
       "    <tr style=\"text-align: right;\">\n",
       "      <th></th>\n",
       "      <th>index</th>\n",
       "      <th>Open</th>\n",
       "      <th>High</th>\n",
       "      <th>Low</th>\n",
       "      <th>Close</th>\n",
       "      <th>Volume</th>\n",
       "    </tr>\n",
       "    <tr>\n",
       "      <th>Datetime</th>\n",
       "      <th></th>\n",
       "      <th></th>\n",
       "      <th></th>\n",
       "      <th></th>\n",
       "      <th></th>\n",
       "      <th></th>\n",
       "    </tr>\n",
       "  </thead>\n",
       "  <tbody>\n",
       "    <tr>\n",
       "      <td>2020-01-30 04:30:00</td>\n",
       "      <td>0</td>\n",
       "      <td>108.893</td>\n",
       "      <td>108.914</td>\n",
       "      <td>108.888</td>\n",
       "      <td>108.912</td>\n",
       "      <td>92</td>\n",
       "    </tr>\n",
       "    <tr>\n",
       "      <td>2020-01-30 04:35:00</td>\n",
       "      <td>1</td>\n",
       "      <td>108.914</td>\n",
       "      <td>108.923</td>\n",
       "      <td>108.909</td>\n",
       "      <td>108.921</td>\n",
       "      <td>121</td>\n",
       "    </tr>\n",
       "    <tr>\n",
       "      <td>2020-01-30 04:40:00</td>\n",
       "      <td>2</td>\n",
       "      <td>108.920</td>\n",
       "      <td>108.932</td>\n",
       "      <td>108.917</td>\n",
       "      <td>108.927</td>\n",
       "      <td>131</td>\n",
       "    </tr>\n",
       "    <tr>\n",
       "      <td>2020-01-30 04:45:00</td>\n",
       "      <td>3</td>\n",
       "      <td>108.926</td>\n",
       "      <td>108.928</td>\n",
       "      <td>108.904</td>\n",
       "      <td>108.908</td>\n",
       "      <td>143</td>\n",
       "    </tr>\n",
       "    <tr>\n",
       "      <td>2020-01-30 04:50:00</td>\n",
       "      <td>4</td>\n",
       "      <td>108.907</td>\n",
       "      <td>108.908</td>\n",
       "      <td>108.896</td>\n",
       "      <td>108.900</td>\n",
       "      <td>99</td>\n",
       "    </tr>\n",
       "  </tbody>\n",
       "</table>\n",
       "</div>"
      ],
      "text/plain": [
       "                     index     Open     High      Low    Close  Volume\n",
       "Datetime                                                              \n",
       "2020-01-30 04:30:00      0  108.893  108.914  108.888  108.912      92\n",
       "2020-01-30 04:35:00      1  108.914  108.923  108.909  108.921     121\n",
       "2020-01-30 04:40:00      2  108.920  108.932  108.917  108.927     131\n",
       "2020-01-30 04:45:00      3  108.926  108.928  108.904  108.908     143\n",
       "2020-01-30 04:50:00      4  108.907  108.908  108.896  108.900      99"
      ]
     },
     "execution_count": 19,
     "metadata": {},
     "output_type": "execute_result"
    }
   ],
   "source": [
    "df = get_raw_data()\n",
    "df = df[[\"datetime\",\"open\",\"high\",\"low\",\"close\",\"volume\"]].copy()\n",
    "df.columns = ['Datetime', 'Open', 'High', 'Low', 'Close', 'Volume']\n",
    "df['Datetime'] = pd.to_datetime(df['Datetime'])\n",
    "df = df.reset_index().set_index('Datetime')\n",
    "df.head()"
   ]
  },
  {
   "cell_type": "code",
   "execution_count": 21,
   "metadata": {},
   "outputs": [],
   "source": [
    "import talib as ta"
   ]
  },
  {
   "cell_type": "code",
   "execution_count": 22,
   "metadata": {},
   "outputs": [],
   "source": [
    "def get_bband(close, timeperiod=20, nbdevup=3, nbdevdn=3, matype=0):\n",
    "    gain = pd.DataFrame(close)\n",
    "    gain.columns = ['close']\n",
    "    upper, middle, lower = ta.BBANDS(gain.close, timeperiod, nbdevup , nbdevdn, matype)\n",
    "    gain['bb_upper'] = upper\n",
    "    gain['bb_lower'] = lower\n",
    "    return gain['bb_upper'], gain['bb_lower']"
   ]
  },
  {
   "cell_type": "code",
   "execution_count": 36,
   "metadata": {},
   "outputs": [],
   "source": [
    "def get_macd(close, fastperiod=6, slowperiod=13, signalperiod=4):\n",
    "    macd, macdsignal, macdhist = ta.MACD(close, fastperiod=fastperiod, slowperiod=slowperiod, signalperiod=signalperiod)\n",
    "    return macd, macdsignal"
   ]
  },
  {
   "cell_type": "code",
   "execution_count": 25,
   "metadata": {},
   "outputs": [],
   "source": [
    "from backtesting import Backtest, Strategy\n",
    "from backtesting.lib import crossover"
   ]
  },
  {
   "cell_type": "code",
   "execution_count": 54,
   "metadata": {},
   "outputs": [],
   "source": [
    "# https://bollinger-band.org/entry25.html\n",
    "class MacdBbandStrategy(Strategy):\n",
    "    bb_sigma2 = 2\n",
    "    bb_sigma3 = 3\n",
    "    bb_window = 9\n",
    "    bb_matype = 0\n",
    "    macd_fastperiod = 6\n",
    "    macd_slowperiod = 13\n",
    "    macd_signalperiod = 4\n",
    "    \n",
    "    profit = 40 * 0.01 # 利確30pips\n",
    "    loss = 20 * 0.01 # 損切り15pips\n",
    "    \n",
    "    def init(self):\n",
    "        self.bb2_upper, self.bb2_lower = self.I(get_bband, self.data.Close, self.bb_window, self.bb_sigma2, self.bb_sigma2, self.bb_matype)\n",
    "        self.bb3_upper, self.bb3_lower = self.I(get_bband, self.data.Close, self.bb_window, self.bb_sigma3, self.bb_sigma3, self.bb_matype)\n",
    "        self.macd, self.signal = self.I(get_macd, self.data.Close, self.macd_fastperiod, self.macd_slowperiod, self.macd_signalperiod)\n",
    "        \n",
    "        # 0: 上昇トレンド、 1: 下降トレンド、 99: トレンドなし\n",
    "        self.trand = 99\n",
    "        \n",
    "        # トレンドが変わってからのロウソク数\n",
    "        self.trand_change = 0\n",
    "\n",
    "    def next(self):\n",
    "        # macdのトレンド確認\n",
    "        if (crossover(self.signal, self.macd)):\n",
    "            self.trand = 0 if (self.signal > self.macd) else 1\n",
    "        else:\n",
    "            self.trand_change += 1\n",
    "        \n",
    "        # 5本をすぎると騙しが増えるのでトレンドとは考えない\n",
    "        if (self.trand_change < 5):\n",
    "            if (crossover(self.data.Close, self.bb2_upper)):\n",
    "                self.buy(price=self.data.Close[-1], sl=self.data.Close[-1] - self.loss, tp=self.data.Close[-1] + self.profit)\n",
    "            elif crossover(self.data.Close, self.bb2_lower):\n",
    "                self.sell(price=self.data.Close[-1], sl=self.data.Close[-1] + self.loss, tp=self.data.Close[-1] - self.profit)\n",
    "        else:\n",
    "            self.trand_change = 0\n",
    "            self.trand = 99\n",
    "            "
   ]
  },
  {
   "cell_type": "code",
   "execution_count": 55,
   "metadata": {},
   "outputs": [
    {
     "name": "stdout",
     "output_type": "stream",
     "text": [
      "Start                     2020-01-30 04:30:00\n",
      "End                       2020-02-24 13:45:00\n",
      "Duration                     25 days 09:15:00\n",
      "Exposure [%]                           94.009\n",
      "Equity Final [$]                       101077\n",
      "Equity Peak [$]                        101268\n",
      "Return [%]                            1.07688\n",
      "Buy & Hold Return [%]                 2.21371\n",
      "Max. Drawdown [%]                    -1.07971\n",
      "Avg. Drawdown [%]                    -0.17579\n",
      "Max. Drawdown Duration       19 days 02:45:00\n",
      "Avg. Drawdown Duration        1 days 04:44:00\n",
      "# Trades                                  263\n",
      "Win Rate [%]                          50.5703\n",
      "Best Trade [%]                       0.363594\n",
      "Worst Trade [%]                     -0.187706\n",
      "Avg. Trade [%]                     0.00400026\n",
      "Max. Trade Duration           2 days 03:20:00\n",
      "Avg. Trade Duration           0 days 02:11:00\n",
      "Expectancy [%]                      0.0569644\n",
      "SQN                                  0.840082\n",
      "Sharpe Ratio                        0.0518577\n",
      "Sortino Ratio                       0.0896574\n",
      "Calmar Ratio                       0.00370492\n",
      "_strategy                   MacdBbandStrategy\n",
      "dtype: object\n"
     ]
    }
   ],
   "source": [
    "bt = Backtest(df, MacdBbandStrategy, cash=100000, commission=.00004)\n",
    "output = bt.run()\n",
    "print(output)"
   ]
  },
  {
   "cell_type": "code",
   "execution_count": 67,
   "metadata": {},
   "outputs": [
    {
     "name": "stderr",
     "output_type": "stream",
     "text": [
      "/Users/kataoka/opt/anaconda3/lib/python3.7/site-packages/ipykernel_launcher.py:5: UserWarning: Searching best of 1375 configurations.\n",
      "  \"\"\"\n"
     ]
    },
    {
     "data": {
      "application/vnd.jupyter.widget-view+json": {
       "model_id": "",
       "version_major": 2,
       "version_minor": 0
      },
      "text/plain": [
       "HBox(children=(IntProgress(value=0, max=5), HTML(value='')))"
      ]
     },
     "metadata": {},
     "output_type": "display_data"
    },
    {
     "name": "stdout",
     "output_type": "stream",
     "text": [
      "\r"
     ]
    }
   ],
   "source": [
    "stats = bt.optimize(\n",
    "    bb_window = range(5, 16),\n",
    "    macd_fastperiod = range(4, 9),\n",
    "    macd_slowperiod = range(11, 16),\n",
    "    macd_signalperiod = range(2, 7)\n",
    ")"
   ]
  },
  {
   "cell_type": "code",
   "execution_count": 68,
   "metadata": {},
   "outputs": [
    {
     "name": "stdout",
     "output_type": "stream",
     "text": [
      "Start                                                   2020-01-30 04:30:00\n",
      "End                                                     2020-02-24 13:45:00\n",
      "Duration                                                   25 days 09:15:00\n",
      "Exposure [%]                                                        90.4117\n",
      "Equity Final [$]                                                     103377\n",
      "Equity Peak [$]                                                      103552\n",
      "Return [%]                                                          3.37684\n",
      "Buy & Hold Return [%]                                               2.21371\n",
      "Max. Drawdown [%]                                                  -0.81308\n",
      "Avg. Drawdown [%]                                                -0.0961945\n",
      "Max. Drawdown Duration                                     13 days 02:40:00\n",
      "Avg. Drawdown Duration                                      0 days 09:13:00\n",
      "# Trades                                                                184\n",
      "Win Rate [%]                                                        54.3478\n",
      "Best Trade [%]                                                     0.363336\n",
      "Worst Trade [%]                                                   -0.188336\n",
      "Avg. Trade [%]                                                    0.0185149\n",
      "Max. Trade Duration                                         2 days 04:00:00\n",
      "Avg. Trade Duration                                         0 days 03:00:00\n",
      "Expectancy [%]                                                    0.0706279\n",
      "SQN                                                                 2.53605\n",
      "Sharpe Ratio                                                       0.186658\n",
      "Sortino Ratio                                                      0.372679\n",
      "Calmar Ratio                                                      0.0227713\n",
      "_strategy                 MacdBbandStrategy(bb_window=7,macd_fastperiod=...\n",
      "dtype: object\n"
     ]
    }
   ],
   "source": [
    "print(stats)"
   ]
  },
  {
   "cell_type": "code",
   "execution_count": 69,
   "metadata": {},
   "outputs": [
    {
     "name": "stdout",
     "output_type": "stream",
     "text": [
      "MacdBbandStrategy(bb_window=7,macd_fastperiod=7,macd_slowperiod=11,macd_signalperiod=4)\n"
     ]
    }
   ],
   "source": [
    "print(stats._strategy)"
   ]
  },
  {
   "cell_type": "code",
   "execution_count": null,
   "metadata": {},
   "outputs": [],
   "source": []
  }
 ],
 "metadata": {
  "kernelspec": {
   "display_name": "Python 3",
   "language": "python",
   "name": "python3"
  },
  "language_info": {
   "codemirror_mode": {
    "name": "ipython",
    "version": 3
   },
   "file_extension": ".py",
   "mimetype": "text/x-python",
   "name": "python",
   "nbconvert_exporter": "python",
   "pygments_lexer": "ipython3",
   "version": "3.7.4"
  }
 },
 "nbformat": 4,
 "nbformat_minor": 2
}
